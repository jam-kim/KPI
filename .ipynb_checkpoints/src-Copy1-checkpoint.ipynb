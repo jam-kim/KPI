{
 "cells": [
  {
   "cell_type": "code",
   "execution_count": 105,
   "metadata": {
    "execution": {
     "iopub.execute_input": "2020-08-02T12:18:53.033999Z",
     "iopub.status.busy": "2020-08-02T12:18:53.033568Z",
     "iopub.status.idle": "2020-08-02T12:18:54.402166Z",
     "shell.execute_reply": "2020-08-02T12:18:54.401200Z",
     "shell.execute_reply.started": "2020-08-02T12:18:53.033941Z"
    }
   },
   "outputs": [],
   "source": [
    "import pandas as pd\n",
    "import numpy as np\n",
    "import time \n",
    "import os\n",
    "import copy\n",
    "from pandas.api.types import is_numeric_dtype\n",
    "\n",
    "class dqc_code:\n",
    "    url = 'https://raw.githubusercontent.com/guru99-edu/R-Programming/master/adult_data.csv'\n",
    "        \n",
    "    def __init__(self):\n",
    "        self.data = pd.read_csv(self.url)\n",
    "        self.nalists = ['?', 'NA', 'na', 'null', 'Null', 'NULL', ' ']\n",
    "        self.output = dict()\n",
    "        \n",
    "    def na_check(self):              \n",
    "        # 공통 결측치\n",
    "        addlist1 = input(f'전체 공통 결측값 변경 후 개별 변수 결측값을 변경합니다. /n기본 설정된 공통 결측값 리스트: {self.nalists} \\n추가하고 싶은 리스트를 작성해주십시오:')        \n",
    "        if len(addlist1) != 0:\n",
    "            self.nalists += addlist1.split(sep=', ')\n",
    "            self.nalists = list(set(self.nalists))\n",
    "        # change all NA\n",
    "        self.data[self.data.isin(self.nalists)] = np.nan\n",
    "        \n",
    "        # 각 변수별 결측치\n",
    "        for col in self.data.columns:\n",
    "            addlist2  = input(f'{col} 변수에서 추가 변경하고 싶은 리스트를 작성해주십시오:')\n",
    "            if len(addlist2) != 0:\n",
    "                addlist2.split(sep=', ')\n",
    "                addlist2 = list(set(addlist2))     \n",
    "                self.data[self.data.loc[:,col].isin(addlist2)] = np.nan\n",
    "                \n",
    "    def datainfo(self):\n",
    "        # data 크기 저장.\n",
    "        rows, columns = self.data.shape\n",
    "        \n",
    "        # data 내 전체 결측값을 확인한다.\n",
    "        total_null = sum(df.isnull().sum())\n",
    "\n",
    "        # 중복되는 row가 있는지 확인한다. \n",
    "        duplicate_row = sum(df.duplicated())\n",
    "\n",
    "        # 중복 row의 index를 확인한다.\n",
    "        duplicate_index = [idx for idx, result in df.duplicated().to_dict().items() if result is True]\n",
    "    \n",
    "        ## 연속형 변수 리스트\n",
    "        con_var = list(df.select_dtypes(include=[np.number]).columns)\n",
    "        \n",
    "        ## 범주형 변수 리스트\n",
    "        cat_var = list(df.select_dtypes(include=[np.object]).columns)\n",
    "        \n",
    "        self.output['dataset'] = {\n",
    "            'rows': rows,\n",
    "            'cols': cols,\n",
    "            'null': total_null,\n",
    "            'con_var': con_var,\n",
    "            'cat_var': cat_var,\n",
    "            'duplicate row': duplicate_row,\n",
    "            'duplicate row index': duplicate_index\n",
    "        }\n",
    "            \n",
    "    def dqc(self):\n",
    "        # 변수별 summary.\n",
    "        variables = dict()\n",
    "        string_variable = dict()\n",
    "        numeric_variable = dict()\n",
    "\n",
    "        for column_name in df.columns.to_list():\n",
    "            \n",
    "            temp_dict = dict()\n",
    "            \n",
    "            # 값 전체가 결측값인 column은 all_null 값이 1로 입력된다. \n",
    "            if self.data.shape[0] == self.data[column_name].isnull().sum():\n",
    "                temp_dict['all_null'] = 1\n",
    "            else:\n",
    "                temp_dict['all_null'] = 0\n",
    "            \n",
    "            # column 내에 결측값 갯수를 확인한다.\n",
    "            temp_dict['null_count'] = self.data[column_name].isnull().sum()\n",
    "            \n",
    "            # 값 전체가 동일한 column은 all_same 값이 1로 입력된다.\n",
    "            if len(self.data[column_name].unique()) == 1:\n",
    "                temp_dict['all_same'] = 1 \n",
    "            else: \n",
    "                temp_dict['all_same'] = 0\n",
    "                \n",
    "#             # 중복되는 column일 경우 duplicate 값이 1로 입력된다.\n",
    "#             if column_name in duplicate_column:\n",
    "#                 temp_dict['duplicate'] = 1 \n",
    "#             else: \n",
    "#                 temp_dict['duplicate'] = 0\n",
    "            \n",
    "            # is_numeric_dtype 함수를 가지고 column의 string, numeric type을 구분한다.   \n",
    "            if is_numeric_dtype(self.data[column_name]) is True:\n",
    "                temp_dict.update(dict(self.data[column_name].describe()))\n",
    "                numeric_variable[column_name] = temp_dict\n",
    "            else: \n",
    "                values = self.data[column_name].astype(str)\n",
    "                values_percent = round(values.groupby(values).count().sort_values(ascending=False) / len(values), 2)\n",
    "                temp_dict['values_percent'] = values_percent.to_dict()\n",
    "\n",
    "                string_variable[column_name] = temp_dict\n",
    "            \n",
    "            self.output['variable'] = {\n",
    "                'numeric_variable': numeric_variable,  \n",
    "                'string_variable': string_variable      \n",
    "            }\n",
    "\n",
    "test = dqc_code()"
   ]
  },
  {
   "cell_type": "code",
   "execution_count": 106,
   "metadata": {
    "execution": {
     "iopub.execute_input": "2020-08-02T12:18:54.403700Z",
     "iopub.status.busy": "2020-08-02T12:18:54.403460Z",
     "iopub.status.idle": "2020-08-02T12:18:54.640288Z",
     "shell.execute_reply": "2020-08-02T12:18:54.639442Z",
     "shell.execute_reply.started": "2020-08-02T12:18:54.403666Z"
    }
   },
   "outputs": [],
   "source": [
    "test.dqc()"
   ]
  },
  {
   "cell_type": "code",
   "execution_count": null,
   "metadata": {
    "colab": {},
    "colab_type": "code",
    "id": "_xgmVCoafeKZ"
   },
   "outputs": [],
   "source": [
    "# 결과를 json으로 저장한다.\n",
    "json.dump(output, open(\"output.json\", 'w'))"
   ]
  }
 ],
 "metadata": {
  "colab": {
   "collapsed_sections": [],
   "name": "src.ipynb",
   "provenance": []
  },
  "kernelspec": {
   "display_name": "Python 3",
   "language": "python",
   "name": "python3"
  },
  "language_info": {
   "codemirror_mode": {
    "name": "ipython",
    "version": 3
   },
   "file_extension": ".py",
   "mimetype": "text/x-python",
   "name": "python",
   "nbconvert_exporter": "python",
   "pygments_lexer": "ipython3",
   "version": "3.7.7"
  }
 },
 "nbformat": 4,
 "nbformat_minor": 4
}
